{
  "nbformat": 4,
  "nbformat_minor": 0,
  "metadata": {
    "colab": {
      "name": "Vectorization demo.ipynb",
      "provenance": []
    },
    "kernelspec": {
      "name": "python3",
      "display_name": "Python 3"
    }
  },
  "cells": [
    {
      "cell_type": "markdown",
      "metadata": {
        "id": "mZtIJKbKII_x",
        "colab_type": "text"
      },
      "source": [
        "Importação da biblioteca Numpy"
      ]
    },
    {
      "cell_type": "code",
      "metadata": {
        "id": "LJs4NdUrCd82",
        "colab_type": "code",
        "colab": {}
      },
      "source": [
        "import numpy as np"
      ],
      "execution_count": 0,
      "outputs": []
    },
    {
      "cell_type": "code",
      "metadata": {
        "id": "LS_DQgE-C7TK",
        "colab_type": "code",
        "outputId": "87ca0725-6668-418f-bb41-2329cc1aaea2",
        "colab": {
          "base_uri": "https://localhost:8080/",
          "height": 34
        }
      },
      "source": [
        "a = np.array([1,2,3,4])\n",
        "print(a)"
      ],
      "execution_count": 0,
      "outputs": [
        {
          "output_type": "stream",
          "text": [
            "[1 2 3 4]\n"
          ],
          "name": "stdout"
        }
      ]
    },
    {
      "cell_type": "markdown",
      "metadata": {
        "id": "rOqckTHoIdht",
        "colab_type": "text"
      },
      "source": [
        "Biblioteca Time"
      ]
    },
    {
      "cell_type": "code",
      "metadata": {
        "id": "YfiX09P3DNne",
        "colab_type": "code",
        "colab": {}
      },
      "source": [
        "import time"
      ],
      "execution_count": 0,
      "outputs": []
    },
    {
      "cell_type": "code",
      "metadata": {
        "id": "u8_OabK5DRh_",
        "colab_type": "code",
        "outputId": "98cf84c1-c338-499b-aa41-8021b5e0d4af",
        "colab": {
          "base_uri": "https://localhost:8080/",
          "height": 34
        }
      },
      "source": [
        "a = np.random.rand(1000000)\n",
        "b = np.random.rand(1000000)\n",
        "\n",
        "tic = time.time()\n",
        "c = np.dot(a,b)\n",
        "toc = time.time()\n",
        "\n",
        "print(\"Vectorized version:\" + str(1000*(toc*tic)) +\"ms\")"
      ],
      "execution_count": 0,
      "outputs": [
        {
          "output_type": "stream",
          "text": [
            "Vectorized version:2.524565503448409e+21ms\n"
          ],
          "name": "stdout"
        }
      ]
    },
    {
      "cell_type": "code",
      "metadata": {
        "id": "QaWfcMANGnmI",
        "colab_type": "code",
        "outputId": "31939172-6e6b-4ad3-e30b-d481af00eff5",
        "colab": {
          "base_uri": "https://localhost:8080/",
          "height": 52
        }
      },
      "source": [
        "c = 0 \n",
        "tic = time.time()\n",
        "for i in range(1000000):\n",
        "  c += a[i]*b[i]\n",
        "toc = time.time()\n",
        "\n",
        "print(c)\n",
        "print(\"For loop: \" + str(1000*(toc*tic)) + \"ms\")"
      ],
      "execution_count": 0,
      "outputs": [
        {
          "output_type": "stream",
          "text": [
            "249874.67343904998\n",
            "For loop: 2.524566914150968e+21ms\n"
          ],
          "name": "stdout"
        }
      ]
    },
    {
      "cell_type": "code",
      "metadata": {
        "id": "R_4TXsCjHS6C",
        "colab_type": "code",
        "colab": {}
      },
      "source": [
        ""
      ],
      "execution_count": 0,
      "outputs": []
    }
  ]
}